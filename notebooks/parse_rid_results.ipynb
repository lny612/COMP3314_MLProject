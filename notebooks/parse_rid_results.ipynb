{
 "cells": [
  {
   "cell_type": "code",
   "execution_count": 25,
   "metadata": {},
   "outputs": [],
   "source": [
    "import pandas as pd\n"
   ]
  },
  {
   "cell_type": "code",
   "execution_count": 26,
   "metadata": {},
   "outputs": [
    {
     "name": "stdout",
     "output_type": "stream",
     "text": [
      "Skipping monk.csv, 0.02\n"
     ]
    }
   ],
   "source": [
    "possible_dfs = [\n",
    "    \"wisconsin.csv\", \"compas_complete.csv\", \"coupon_full.csv\", \"wine_quality.csv\",\n",
    "    \"broward_general_2y.csv\", 'fico_complete.csv', 'iris_setosa.csv', 'iris_versicolor.csv',\n",
    "    'iris_virginica.csv', 'monk.csv', 'spiral.csv', 'tic-tac-toe.csv', 'netherlands.csv'\n",
    "]\n",
    "result_list = []\n",
    "db = 4\n",
    "for dataset in possible_dfs:\n",
    "    for lam in [0.02]:\n",
    "        df_name = f\"{dataset.split('.')[0]}_100_resamples_triv_ext_True_db{db}_reg_{lam}_rashomon_bound_adder_0.02\"\n",
    "        try:\n",
    "            next_df = pd.read_csv(f\"../rid_plots_1_22/{df_name}/summary.csv\")\n",
    "            next_df[\"dataset\"] = dataset\n",
    "            next_df[\"lam\"] = lam\n",
    "            result_list.append(next_df)\n",
    "        except:\n",
    "            print(f\"Skipping {dataset}, {lam}\")\n",
    "            continue\n",
    "\n",
    "all_results = pd.concat(result_list, axis=0)"
   ]
  },
  {
   "cell_type": "code",
   "execution_count": 20,
   "metadata": {},
   "outputs": [],
   "source": [
    "def nicify_dataset(row):\n",
    "    match row['dataset']:\n",
    "        case \"wisconsin.csv\":\n",
    "            return \"Wisconsin\"\n",
    "        case \"coupon_full.csv\":\n",
    "            return \"Coupon\"\n",
    "        case \"compas_complete.csv\":\n",
    "            return \"COMPAS\"\n",
    "        case \"broward_general_2y.csv\":\n",
    "            return \"Broward\"\n",
    "        case 'fico_complete.csv':\n",
    "            return \"FICO\"\n",
    "        case _:\n",
    "            return ' '.join(row['dataset'].split('.')[0].split('_')).title()\n",
    "all_results['dataset_nice'] = all_results.apply(\n",
    "    lambda x: nicify_dataset(x),\n",
    "    axis=1\n",
    ")"
   ]
  },
  {
   "cell_type": "code",
   "execution_count": 24,
   "metadata": {},
   "outputs": [
    {
     "name": "stdout",
     "output_type": "stream",
     "text": [
      "(217, 12)\n",
      "(69, 12)\n"
     ]
    }
   ],
   "source": [
    "print(all_results.shape)\n",
    "print(all_results[\n",
    "    (all_results['original_rid_max'] > 1e-6) | (all_results['corrected_rid_max'] > 1e-6)\n",
    "].shape)"
   ]
  },
  {
   "cell_type": "markdown",
   "metadata": {},
   "source": [
    "## Generate data for supplement table"
   ]
  },
  {
   "cell_type": "code",
   "execution_count": 21,
   "metadata": {},
   "outputs": [
    {
     "name": "stdout",
     "output_type": "stream",
     "text": [
      "\\begin{tabular}{llrr}\n",
      "\\toprule\n",
      "dataset_nice & var & ks_test_stat & ks_test_p \\\\\n",
      "\\midrule\n",
      "Broward & age_at_current_charge & 0.006845 & 0.973439 \\\\\n",
      "Broward & age_at_first_charge & 0.028369 & 0.000685 \\\\\n",
      "Broward & one_year & 0.009685 & 0.738680 \\\\\n",
      "Broward & p_arrest & 0.020327 & 0.033135 \\\\\n",
      "Broward & p_charges & 0.025376 & 0.003370 \\\\\n",
      "Broward & p_dui & 0.010082 & 0.692329 \\\\\n",
      "Broward & p_fta_two_year & 0.011583 & 0.516924 \\\\\n",
      "Broward & p_misdemeanor & 0.049235 & 0.000000 \\\\\n",
      "Broward & p_pending_charge & 0.008679 & 0.847098 \\\\\n",
      "Broward & six_month & 0.009828 & 0.722117 \\\\\n",
      "Broward & three_year & 0.037849 & 0.000001 \\\\\n",
      "COMPAS & age & 0.043373 & 0.000016 \\\\\n",
      "COMPAS & juvenile_crimes & 0.048217 & 0.000001 \\\\\n",
      "COMPAS & priors_count & 0.067886 & 0.000000 \\\\\n",
      "Coupon & CoffeeHouse1 & 0.067603 & 0.000035 \\\\\n",
      "Coupon & coupon0 & 0.066138 & 0.000056 \\\\\n",
      "Coupon & coupon2 & 0.065475 & 0.000069 \\\\\n",
      "Coupon & coupon3 & 0.118504 & 0.000000 \\\\\n",
      "Coupon & destination0 & 0.023984 & 0.490088 \\\\\n",
      "Coupon & expiration1 & 0.028632 & 0.276121 \\\\\n",
      "Coupon & passenger1 & 0.052607 & 0.002614 \\\\\n",
      "Coupon & weather0 & 0.099256 & 0.000000 \\\\\n",
      "FICO & ExternalRiskEstimate & 0.079168 & 0.002619 \\\\\n",
      "FICO & MSinceMostRecentInqexcl7days & 0.105930 & 0.000014 \\\\\n",
      "FICO & NetFractionRevolvingBurden & 0.015801 & 0.999146 \\\\\n",
      "FICO & NumSatisfactoryTrades & 0.025707 & 0.867512 \\\\\n",
      "Iris Setosa & petal length & 0.085000 & 0.466286 \\\\\n",
      "Iris Setosa & petal width & 0.030000 & 0.999992 \\\\\n",
      "Iris Versicolor & petal length & 0.145259 & 0.000417 \\\\\n",
      "Iris Versicolor & petal width & 0.172575 & 0.000013 \\\\\n",
      "Iris Virginica & petal length & 0.079877 & 0.004517 \\\\\n",
      "Iris Virginica & petal width & 0.080317 & 0.004225 \\\\\n",
      "Netherlands & 11-20 previous case & 0.156908 & 0.000000 \\\\\n",
      "Netherlands & >20 previous case & 0.220336 & 0.000000 \\\\\n",
      "Netherlands & age at first penal case & 0.234413 & 0.000000 \\\\\n",
      "Netherlands & log # of previous penal cases & 0.154640 & 0.000000 \\\\\n",
      "Spiral & feat1 & 0.056763 & 0.000218 \\\\\n",
      "Spiral & feat2 & 0.046307 & 0.004580 \\\\\n",
      "Tic-Tac-Toe & Feat0_o & 0.017226 & 0.448192 \\\\\n",
      "Tic-Tac-Toe & Feat0_x & 0.062457 & 0.000000 \\\\\n",
      "Tic-Tac-Toe & Feat1_o & 0.005991 & 0.999989 \\\\\n",
      "Tic-Tac-Toe & Feat1_x & 0.008896 & 0.988349 \\\\\n",
      "Tic-Tac-Toe & Feat2_o & 0.021888 & 0.182977 \\\\\n",
      "Tic-Tac-Toe & Feat2_x & 0.062774 & 0.000000 \\\\\n",
      "Tic-Tac-Toe & Feat3_o & 0.005579 & 0.999998 \\\\\n",
      "Tic-Tac-Toe & Feat3_x & 0.010545 & 0.942370 \\\\\n",
      "Tic-Tac-Toe & Feat4_o & 0.081569 & 0.000000 \\\\\n",
      "Tic-Tac-Toe & Feat4_x & 0.125572 & 0.000000 \\\\\n",
      "Tic-Tac-Toe & Feat5_o & 0.007327 & 0.999217 \\\\\n",
      "Tic-Tac-Toe & Feat5_x & 0.015350 & 0.596928 \\\\\n",
      "Tic-Tac-Toe & Feat6_o & 0.021761 & 0.188094 \\\\\n",
      "Tic-Tac-Toe & Feat6_x & 0.032067 & 0.011964 \\\\\n",
      "Tic-Tac-Toe & Feat7_o & 0.007696 & 0.998273 \\\\\n",
      "Tic-Tac-Toe & Feat7_x & 0.010089 & 0.959806 \\\\\n",
      "Tic-Tac-Toe & Feat8_o & 0.019266 & 0.311956 \\\\\n",
      "Tic-Tac-Toe & Feat8_x & 0.043873 & 0.000140 \\\\\n",
      "Wine Quality & alcohol & 0.028608 & 0.002097 \\\\\n",
      "Wine Quality & citric_acid & 0.002099 & 1.000000 \\\\\n",
      "Wine Quality & free_sulfur_dioxide & 0.001559 & 1.000000 \\\\\n",
      "Wine Quality & volatile_acidity & 0.020111 & 0.067145 \\\\\n",
      "Wisconsin & area2 & 0.004952 & 0.902248 \\\\\n",
      "Wisconsin & area3 & 0.011916 & 0.047488 \\\\\n",
      "Wisconsin & concave_points1 & 0.007035 & 0.531103 \\\\\n",
      "Wisconsin & concave_points3 & 0.029109 & 0.000000 \\\\\n",
      "Wisconsin & concavity3 & 0.007328 & 0.478215 \\\\\n",
      "Wisconsin & perimeter3 & 0.010055 & 0.139228 \\\\\n",
      "Wisconsin & radius3 & 0.006122 & 0.705633 \\\\\n",
      "Wisconsin & texture1 & 0.003626 & 0.994981 \\\\\n",
      "Wisconsin & texture3 & 0.022322 & 0.000004 \\\\\n",
      "\\bottomrule\n",
      "\\end{tabular}\n",
      "\n"
     ]
    }
   ],
   "source": [
    "print(all_results[\n",
    "    (all_results['original_rid_max'] > 1e-6) | (all_results['corrected_rid_max'] > 1e-6)\n",
    "][['dataset_nice', 'var', 'ks_test_stat', 'ks_test_p']].sort_values([\"dataset_nice\", 'var']).to_latex(index=False))"
   ]
  },
  {
   "cell_type": "markdown",
   "metadata": {},
   "source": [
    "### Make the large grid of RID plots"
   ]
  },
  {
   "cell_type": "code",
   "execution_count": 40,
   "metadata": {},
   "outputs": [],
   "source": [
    "import os\n",
    "from PIL import Image\n",
    "from pdf2image import convert_from_path\n",
    "\n",
    "var_to_img = {}\n",
    "for dataset in tqdm(all_results['dataset'].unique()):\n",
    "    df_name = f\"{dataset.split('.')[0]}_100_resamples_triv_ext_True_db4_reg_0.02_rashomon_bound_adder_0.02\"\n",
    "    current_dir = f\"../rid_plots_1_22/{df_name}/\"\n",
    "    for file in os.listdir(current_dir):\n",
    "        if file == \"summary.csv\":\n",
    "            continue\n",
    "        else:\n",
    "            var_to_img[file.split('_alt')[0].split(\"comparison_\")[1]] = convert_from_path(current_dir + file)[0]\n",
    "\n",
    "kept_images = []\n",
    "for ind, row in all_results.iterrows():\n",
    "    if row['ks_test_p'] < 0.05:\n",
    "        if row['var'] in var_to_img:\n",
    "            kept_images.append(var_to_img[row['var']])"
   ]
  },
  {
   "cell_type": "code",
   "execution_count": 59,
   "metadata": {},
   "outputs": [
    {
     "data": {
      "image/png": "[encoded data removed]",
      "text/plain": [
       "<Figure size 640x480 with 3 Axes>"
      ]
     },
     "metadata": {},
     "output_type": "display_data"
    }
   ],
   "source": [
    "from matplotlib import pyplot as plt\n",
    "from math import ceil\n",
    "\n",
    "fig, axes = plt.subplots(nrows=ceil(len(kept_images) / 3), ncols=3, figsize=(4, ceil(len(kept_images) / 3)))\n",
    "\n",
    "for i, ax in tqdm(enumerate(axes.flat)):\n",
    "    ax.axis('off')\n",
    "    if i >= len(kept_images):\n",
    "        continue\n",
    "    ax.imshow(kept_images[i])\n",
    "\n",
    "fig.tight_layout()\n",
    "plt.subplots_adjust(wspace=0, hspace=0)\n",
    "plt.savefig(\"./big_rid_grid_alt.pdf\", dpi=600)"
   ]
  },
  {
   "cell_type": "code",
   "execution_count": null,
   "metadata": {},
   "outputs": [],
   "source": []
  }
 ],
 "metadata": {
  "kernelspec": {
   "display_name": ".venv",
   "language": "python",
   "name": "python3"
  },
  "language_info": {
   "codemirror_mode": {
    "name": "ipython",
    "version": 3
   },
   "file_extension": ".py",
   "mimetype": "text/x-python",
   "name": "python",
   "nbconvert_exporter": "python",
   "pygments_lexer": "ipython3",
   "version": "3.10.12"
  }
 },
 "nbformat": 4,
 "nbformat_minor": 2
}
