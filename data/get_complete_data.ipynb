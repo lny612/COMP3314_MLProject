{
 "cells": [
  {
   "cell_type": "code",
   "execution_count": null,
   "metadata": {},
   "outputs": [],
   "source": [
    "import numpy as np \n",
    "import pandas as pd"
   ]
  },
  {
   "cell_type": "code",
   "execution_count": null,
   "metadata": {},
   "outputs": [],
   "source": [
    "# read in a bunch of datasets from uci that are binary classification\n",
    "# and have NO missing values\n",
    "from ucimlrepo import fetch_ucirepo "
   ]
  },
  {
   "cell_type": "code",
   "execution_count": null,
   "metadata": {},
   "outputs": [],
   "source": [
    "# Breast Cancer Wisconsin (Diagnostic) data\n",
    "\n",
    "wisconsin = fetch_ucirepo(id=17)\n",
    "\n",
    "X = wisconsin.data.features\n",
    "y = wisconsin.data.targets\n",
    "#remap to 0, 1\n",
    "y[y == 'M'] = 1\n",
    "y[y == 'B'] = 0\n",
    "\n",
    "df = pd.concat([X, y], axis=1)\n",
    "\n",
    "df.to_csv('wisconsin.csv', index=False)"
   ]
  },
  {
   "cell_type": "code",
   "execution_count": null,
   "metadata": {},
   "outputs": [],
   "source": [
    "# wine_quality\n",
    "wine_quality = fetch_ucirepo(id=186) \n",
    "  \n",
    "# data (as pandas dataframes) \n",
    "X = wine_quality.data.features \n",
    "y = wine_quality.data.targets \n",
    "\n",
    "y = y > 5 # make it binary classification\n",
    "\n",
    "df = pd.concat([X, y], axis=1)\n",
    "df.to_csv('wine_quality.csv', index=False)"
   ]
  },
  {
   "cell_type": "code",
   "execution_count": null,
   "metadata": {},
   "outputs": [],
   "source": [
    "#compas with no missingness\n",
    "df = pd.read_csv(\"https://raw.githubusercontent.com/ubc-systopia/gosdt-guesses/refs/heads/main/datasets/compas.csv\")\n",
    "df.to_csv('compas_complete.csv', index=False)"
   ]
  },
  {
   "cell_type": "markdown",
   "metadata": {},
   "source": [
    "## Prepare the full coupon dataset"
   ]
  },
  {
   "cell_type": "code",
   "execution_count": null,
   "metadata": {},
   "outputs": [],
   "source": [
    "from ucimlrepo import fetch_ucirepo \n",
    "  \n",
    "# fetch dataset \n",
    "in_vehicle_coupon_recommendation = fetch_ucirepo(id=603) \n",
    "  \n",
    "\n",
    "# data (as pandas dataframes) \n",
    "X = in_vehicle_coupon_recommendation.data.features \n",
    "y = in_vehicle_coupon_recommendation.data.targets \n",
    "\n",
    "def correct_age(row):\n",
    "    if row['age'] == 'below21':\n",
    "        return 20\n",
    "    elif row['age'] == '50plus':\n",
    "        return 51\n",
    "    else:\n",
    "        return int(row['age'])\n",
    "\n",
    "def correct_income(row):\n",
    "    if 'Less' in row['income']:\n",
    "        return 12500\n",
    "    else:\n",
    "        return int(row['income'].split(\" \")[0].split(\"$\")[-1])\n",
    "\n",
    "def correct_time(row):\n",
    "    if 'PM' in row['time']:\n",
    "        return int(row['time'][:-2]) + 12\n",
    "    else:\n",
    "        return int(row['time'][:-2])\n",
    "\n",
    "def correct_freq_cols(row, col):\n",
    "    if row[col] == 'never':\n",
    "        return 0\n",
    "    elif row[col] == 'less1':\n",
    "        return 1\n",
    "    elif row[col] == '1~3':\n",
    "        return 2\n",
    "    elif row[col] == '4~8':\n",
    "        return 3\n",
    "    elif row[col] == 'gt8':\n",
    "        return 4\n",
    "    else:\n",
    "        return np.nan\n",
    "\n",
    "X['age'] = X.apply(correct_age, axis=1)\n",
    "X['time'] = X.apply(correct_time, axis=1)\n",
    "X['income'] = X.apply(correct_income, axis=1)\n",
    "\n",
    "for col in ['Bar','CoffeeHouse','CarryAway','RestaurantLessThan20','Restaurant20To50']:\n",
    "    X[col] = X.apply(lambda x: correct_freq_cols(x, col), axis=1)"
   ]
  },
  {
   "cell_type": "code",
   "execution_count": null,
   "metadata": {},
   "outputs": [],
   "source": [
    "from pandas.api.types import is_numeric_dtype\n",
    "\n",
    "def process_ordinals(column):\n",
    "    vals = column.unique()\n",
    "    processed_column = column.copy()\n",
    "    if len(vals) == 2:\n",
    "        processed_column[column == vals[1]] = 1\n",
    "        if column.isna().any():\n",
    "            return processed_column.astype(float)\n",
    "        else:\n",
    "            return processed_column.astype(int)\n",
    "\n",
    "    for i, v in enumerate(vals):\n",
    "        processed_column[column == v] = i\n",
    "\n",
    "    if column.isna().any():\n",
    "        return processed_column.astype(float)\n",
    "    else:\n",
    "        return processed_column.astype(int)\n",
    "\n",
    "def process_categoricals(column):\n",
    "    vals = column.unique()\n",
    "    all_cols = []\n",
    "    col_names = []\n",
    "    if len(vals) == 2:\n",
    "        processed_column = np.zeros(column.shape[0])\n",
    "        processed_column[column == vals[1]] = 1\n",
    "        if column.isna().any():\n",
    "            processed_column = processed_column.astype(float)\n",
    "        else:\n",
    "            processed_column = processed_column.astype(int)\n",
    "        return [processed_column], [f\"{column.name}1\"]\n",
    "    \n",
    "    for i, v in enumerate(vals):\n",
    "        processed_column = np.zeros(column.shape[0])\n",
    "        processed_column[column == v] = 1\n",
    "        col_names.append(f\"{column.name}{i}\")\n",
    "\n",
    "        if column.isna().any():\n",
    "            all_cols.append(processed_column.astype(float))\n",
    "        else:\n",
    "            all_cols.append(processed_column.astype(int))\n",
    "\n",
    "    return all_cols, col_names"
   ]
  },
  {
   "cell_type": "code",
   "execution_count": null,
   "metadata": {},
   "outputs": [],
   "source": [
    "dropped_cols = ['direction_opp', 'car']\n",
    "ordinal_cols = [\n",
    "    'Bar','CoffeeHouse','CarryAway','RestaurantLessThan20','Restaurant20To50', 'income', 'time', \n",
    "]\n",
    "\n",
    "X_encoded = pd.DataFrame()\n",
    "for col in X.columns:\n",
    "    if col in dropped_cols:\n",
    "        continue\n",
    "    \n",
    "    if is_numeric_dtype(X[col]):\n",
    "        X_encoded[f\"{col}1\"] = X[col]\n",
    "    elif col in ordinal_cols:\n",
    "        X_encoded[f\"{col}1\"] = process_ordinals(X[col])\n",
    "    else:\n",
    "        all_cols, col_names = process_categoricals(X[col])\n",
    "        for new_col, col_name in zip(all_cols, col_names):\n",
    "            X_encoded[col_name] = new_col"
   ]
  },
  {
   "cell_type": "code",
   "execution_count": null,
   "metadata": {},
   "outputs": [],
   "source": [
    "X_encoded['y'] = y\n",
    "X_encoded.dropna().to_csv('./coupon_full.csv', index=False)"
   ]
  },
  {
   "cell_type": "code",
   "execution_count": 89,
   "metadata": {},
   "outputs": [],
   "source": [
    "# FICO\n",
    "df = pd.read_csv(\"https://raw.githubusercontent.com/ubc-systopia/tree-benchmark/refs/heads/main/datasets/fico/original.csv\")\n",
    "df.to_csv('fico_full.csv', index=False)\n",
    "df.replace([-7, -8, -9], np.nan, inplace=True)\n",
    "df.dropna().to_csv('fico_complete.csv', index=False)"
   ]
  },
  {
   "cell_type": "code",
   "execution_count": null,
   "metadata": {},
   "outputs": [],
   "source": [
    "# Spiral\n",
    "df = pd.read_csv('https://raw.githubusercontent.com/ubc-systopia/gosdt-guesses/refs/heads/main/datasets/spiral.csv')\n",
    "df.to_csv('spiral.csv', index=False)"
   ]
  },
  {
   "cell_type": "code",
   "execution_count": null,
   "metadata": {},
   "outputs": [],
   "source": [
    "# Tic Tac Toe\n",
    "df = pd.read_csv('https://raw.githubusercontent.com/ubc-systopia/gosdt-guesses/refs/heads/main/datasets/tic-tac-toe.csv')\n",
    "df.to_csv('tic-tac-toe.csv', index=False)"
   ]
  },
  {
   "cell_type": "code",
   "execution_count": null,
   "metadata": {},
   "outputs": [],
   "source": [
    "# Broward General 2Y\n",
    "df = pd.read_csv('https://raw.githubusercontent.com/ubc-systopia/gosdt-guesses/refs/heads/main/datasets/broward_general_2y.csv')\n",
    "df.to_csv('broward_general_2y.csv', index=False)"
   ]
  },
  {
   "cell_type": "code",
   "execution_count": null,
   "metadata": {},
   "outputs": [],
   "source": [
    "iris = fetch_ucirepo(id=53) \n",
    "  \n",
    "# data (as pandas dataframes) \n",
    "X = iris.data.features \n",
    "y = iris.data.targets"
   ]
  },
  {
   "cell_type": "code",
   "execution_count": null,
   "metadata": {},
   "outputs": [],
   "source": [
    "y_setosa = y == 'Iris-setosa'\n",
    "y_versicolor = y == 'Iris-versicolor'\n",
    "y_virginica = y == 'Iris-virginica'"
   ]
  },
  {
   "cell_type": "code",
   "execution_count": null,
   "metadata": {},
   "outputs": [],
   "source": [
    "df = pd.concat([X, y_setosa], axis=1)\n",
    "df.to_csv('iris_setosa.csv', index=False)\n",
    "df = pd.concat([X, y_versicolor], axis=1)\n",
    "df.to_csv('iris_versicolor.csv', index=False)\n",
    "df = pd.concat([X, y_virginica], axis=1)\n",
    "df.to_csv('iris_virginica.csv', index=False)"
   ]
  },
  {
   "cell_type": "markdown",
   "metadata": {},
   "source": [
    "Note on remaining datasets: \n",
    "- Higgs is downloaded from https://www.openml.org/search?type=data&sort=version&status=any&order=asc&exact_name=Higgs&id=42769\n",
    "- preprocessing for Netherlands dataset, and the resulting csv, omitted because this dataset is not fully open access."
   ]
  }
 ],
 "metadata": {
  "kernelspec": {
   "display_name": "Python 3",
   "language": "python",
   "name": "python3"
  },
  "language_info": {
   "codemirror_mode": {
    "name": "ipython",
    "version": 3
   },
   "file_extension": ".py",
   "mimetype": "text/x-python",
   "name": "python",
   "nbconvert_exporter": "python",
   "pygments_lexer": "ipython3",
   "version": "3.12.4"
  }
 },
 "nbformat": 4,
 "nbformat_minor": 2
}
