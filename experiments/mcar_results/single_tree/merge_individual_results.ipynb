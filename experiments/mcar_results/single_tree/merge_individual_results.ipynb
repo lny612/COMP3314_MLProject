{
 "cells": [
  {
   "cell_type": "code",
   "execution_count": null,
   "metadata": {},
   "outputs": [],
   "source": [
    "import numpy as np \n",
    "import pandas as pd \n",
    "\n"
   ]
  },
  {
   "cell_type": "code",
   "execution_count": null,
   "metadata": {},
   "outputs": [],
   "source": [
    "first = True\n",
    "for i in range(360): \n",
    "    # if rf_i exists, then read it and append to the dataframe\n",
    "    try:\n",
    "        rf_i = pd.read_csv(str(i)+'.csv')\n",
    "\n",
    "    except:\n",
    "        print(f'result {i} missing')\n",
    "        continue\n",
    "    if first:\n",
    "        rf = rf_i\n",
    "        first = False\n",
    "    else:\n",
    "        rf = rf.append(rf_i)\n",
    "# merge the dataframes\n",
    "rf.to_csv('aggregated.csv', index=False)\n"
   ]
  },
  {
   "cell_type": "code",
   "execution_count": null,
   "metadata": {},
   "outputs": [],
   "source": []
  }
 ],
 "metadata": {
  "kernelspec": {
   "display_name": "Python 3",
   "language": "python",
   "name": "python3"
  },
  "language_info": {
   "codemirror_mode": {
    "name": "ipython",
    "version": 3
   },
   "file_extension": ".py",
   "mimetype": "text/x-python",
   "name": "python",
   "nbconvert_exporter": "python",
   "pygments_lexer": "ipython3",
   "version": "3.10.12"
  }
 },
 "nbformat": 4,
 "nbformat_minor": 2
}
