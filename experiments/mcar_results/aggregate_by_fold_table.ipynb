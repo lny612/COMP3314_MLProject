{
 "cells": [
  {
   "cell_type": "code",
   "execution_count": null,
   "metadata": {},
   "outputs": [],
   "source": [
    "import numpy as np \n",
    "import pandas as pd "
   ]
  },
  {
   "cell_type": "code",
   "execution_count": null,
   "metadata": {},
   "outputs": [],
   "source": [
    "df = pd.read_csv('single_tree/aggregated.csv')"
   ]
  },
  {
   "cell_type": "code",
   "execution_count": null,
   "metadata": {},
   "outputs": [],
   "source": [
    "df['proportion_nan'] = df['n_nan_preds'] / df['test_set_size']"
   ]
  },
  {
   "cell_type": "code",
   "execution_count": null,
   "metadata": {},
   "outputs": [],
   "source": [
    "df.head()"
   ]
  },
  {
   "cell_type": "code",
   "execution_count": null,
   "metadata": {},
   "outputs": [],
   "source": [
    "groups = df.groupby(['base_tree', 'dataset', 'NaN_condition', 'miss_prob', 'balance', 'prebin_missingness'])"
   ]
  },
  {
   "cell_type": "code",
   "execution_count": null,
   "metadata": {},
   "outputs": [],
   "source": [
    "table = groups['proportion_nan'].agg(['mean', 'std', 'count'])"
   ]
  },
  {
   "cell_type": "code",
   "execution_count": null,
   "metadata": {},
   "outputs": [],
   "source": [
    "table['std_err'] = table['std']/np.sqrt(table['count'])"
   ]
  },
  {
   "cell_type": "code",
   "execution_count": null,
   "metadata": {},
   "outputs": [],
   "source": [
    "table['proportion_valid_predictions'] = 1 - table['mean']"
   ]
  },
  {
   "cell_type": "code",
   "execution_count": null,
   "metadata": {},
   "outputs": [],
   "source": [
    "printable_dataset_names = {\n",
    "    'compas_complete.csv': 'COMPAS',\n",
    "    'wine_quality.csv': 'Wine Quality',\n",
    "    'wisconsin.csv': 'Wisconsin',\n",
    "    'coupon_carryout.csv': 'Coupon Carryout',\n",
    "    'coupon_rest20.csv': 'Coupon Restaurant',\n",
    "    'coupon_full.csv': 'Coupon',\n",
    "    'fico_complete.csv': 'FICO',\n",
    "    'netherlands.csv': 'Netherlands',\n",
    "    'spiral.csv': 'Spiral',\n",
    "    'tic-tac-toe.csv': 'Tic-Tac-Toe',\n",
    "    'iris_virginica.csv': 'Iris Virginica',\n",
    "    'iris_versicolor.csv': 'Iris Versicolor',\n",
    "    'iris_setosa.csv': 'Iris Setosa',\n",
    "    'broward_general_2y.csv': 'Broward General',\n",
    "    'higgs.csv': 'Higgs (1M)'\n",
    "}"
   ]
  },
  {
   "cell_type": "code",
   "execution_count": null,
   "metadata": {},
   "outputs": [],
   "source": [
    "import matplotlib.pyplot as plt\n",
    "MISS_PROBS = [0.1, 0.2, 0.3, 0.4, 0.5, 0.6, 0.7, 0.8, 0.9]\n",
    "def plot_dataset(dataset='compas.csv', base_tree = 'gosdt', balance=True, prebin_missingness=False): \n",
    "\n",
    "    for NaN_condition in ['ours', 'path-based', 'used-features']: \n",
    "        ys = [1]\n",
    "        y_errs = [0]\n",
    "        for miss_prob in MISS_PROBS:#todo: go higher\n",
    "            row = table.loc[(base_tree, dataset, NaN_condition, miss_prob, balance, prebin_missingness), :]\n",
    "            ys.append(row['proportion_valid_predictions'])\n",
    "            y_errs.append(row['std_err'])\n",
    "        ys.append(0)\n",
    "        y_errs.append(0)\n",
    "        plt.errorbar([0] + MISS_PROBS + [1], ys, yerr=y_errs, label=f'{NaN_condition}')\n",
    "    \n",
    "    plt.ylim(0, 1)\n",
    "    plt.xlim(0, 1)\n",
    "\n",
    "    plt.xlabel('Missingness Probability per Feature')\n",
    "    plt.ylabel('Proportion Predictions Identified as Unaffected')\n",
    "    plt.legend(loc='upper right')\n",
    "    plt.title(f'Proportion of Predictions Completely Robust to Missingness in {dataset} \\n for a {base_tree} tree learned on Complete data')\n",
    "    plt.savefig(f'plots/single_tree_{dataset}.png')\n",
    "    "
   ]
  },
  {
   "cell_type": "code",
   "execution_count": null,
   "metadata": {},
   "outputs": [],
   "source": [
    "def plot_dataset(ax, dataset='compas.csv', base_tree='gosdt', balance=True, prebin_missingness=False, legend=False): \n",
    "    for NaN_condition in ['ours', 'path-based', 'used-features']: \n",
    "        ys = [100]\n",
    "        y_errs = [0]\n",
    "        for miss_prob in MISS_PROBS:\n",
    "            row = table.loc[(base_tree, dataset, NaN_condition, miss_prob, balance, prebin_missingness), :]\n",
    "            ys.append(row['proportion_valid_predictions']*100)\n",
    "            y_errs.append(row['std_err']*100)\n",
    "        ys.append(0)\n",
    "        y_errs.append(0)\n",
    "        ax.errorbar([0] + MISS_PROBS + [1], ys, yerr=y_errs, label=f'{NaN_condition}')\n",
    "    \n",
    "    ax.set_ylim(0, 100)\n",
    "    ax.set_xlim(0, 1)\n",
    "    ax.set_xlabel('Missingness Prob per Feature')\n",
    "    ax.set_ylabel(f'% Predictions Proven \\n Unaffected')\n",
    "    if legend:\n",
    "        ax.legend(loc='upper right')\n",
    "    ax.set_title(f'{base_tree}')"
   ]
  },
  {
   "cell_type": "code",
   "execution_count": null,
   "metadata": {},
   "outputs": [],
   "source": [
    "BALANCE_TO_PLOT = False\n",
    "PREBIN_TO_PLOT = False\n",
    "\n",
    "plt.rcParams.update({'font.size': 22})\n",
    "datasets = ['compas_complete.csv', 'wine_quality.csv', 'wisconsin.csv', 'coupon_full.csv']\n",
    "fig, axs = plt.subplots(len(datasets), 3, figsize=(21, 5 * len(datasets)))\n",
    "\n",
    "for i, dataset in enumerate(datasets):\n",
    "    plot_dataset(axs[i, 0], dataset, 'sklearn', balance=BALANCE_TO_PLOT, prebin_missingness=PREBIN_TO_PLOT, legend = i==0)\n",
    "    plot_dataset(axs[i, 1], dataset, 'gosdt', balance=BALANCE_TO_PLOT, prebin_missingness=PREBIN_TO_PLOT)\n",
    "    plot_dataset(axs[i, 2], dataset, 'dl85', balance=BALANCE_TO_PLOT, prebin_missingness=PREBIN_TO_PLOT)\n",
    "    axs[i, 1].set_ylabel('')\n",
    "    axs[i, 1].set_yticklabels([])\n",
    "    axs[i, 2].set_ylabel('')\n",
    "    axs[i, 2].set_yticklabels([])\n",
    "    axs[i, 0].set_title(f'{printable_dataset_names[dataset]} - sklearn')\n",
    "    axs[i, 1].set_title(f'{printable_dataset_names[dataset]} - gosdt')\n",
    "    axs[i, 2].set_title(f'{printable_dataset_names[dataset]} - dl85')\n",
    "\n",
    "    if i != len(datasets) - 1: \n",
    "        axs[i, 0].set_xlabel('')\n",
    "        axs[i, 1].set_xlabel('')\n",
    "        axs[i, 2].set_xlabel('')\n",
    "\n",
    "fig.suptitle(f'% Predictions Completely Robust to Missingness', fontsize='xx-large')\n",
    "fig.tight_layout(rect=[0, 0, 1, .98])\n",
    "plt.savefig(f'plots/single_tree_all_{BALANCE_TO_PLOT}_{PREBIN_TO_PLOT}.pdf')\n",
    "plt.show()\n"
   ]
  },
  {
   "cell_type": "code",
   "execution_count": null,
   "metadata": {},
   "outputs": [],
   "source": [
    "BALANCE_TO_PLOT = False\n",
    "PREBIN_TO_PLOT = False\n",
    "\n",
    "plt.rcParams.update({'font.size': 22})\n",
    "datasets = ['compas_complete.csv', 'wine_quality.csv', 'wisconsin.csv', 'coupon_full.csv']\n",
    "fig, axs = plt.subplots(len(datasets), 3, figsize=(21, 5 * len(datasets)))\n",
    "\n",
    "for i, dataset in enumerate(datasets):\n",
    "    plot_dataset(axs[i, 0], dataset, 'sklearn', balance=BALANCE_TO_PLOT, prebin_missingness=PREBIN_TO_PLOT, legend = i==0)\n",
    "    plot_dataset(axs[i, 1], dataset, 'sklearn-4', balance=BALANCE_TO_PLOT, prebin_missingness=PREBIN_TO_PLOT)\n",
    "    try: \n",
    "        plot_dataset(axs[i, 2], dataset, 'sklearn-5', balance=BALANCE_TO_PLOT, prebin_missingness=PREBIN_TO_PLOT)\n",
    "    except: \n",
    "        pass\n",
    "    axs[i, 1].set_ylabel('')\n",
    "    axs[i, 1].set_yticklabels([])\n",
    "    axs[i, 2].set_ylabel('')\n",
    "    axs[i, 2].set_yticklabels([])\n",
    "    axs[i, 0].set_title(f'{printable_dataset_names[dataset]} - sklearn depth 3')\n",
    "    axs[i, 1].set_title(f'{printable_dataset_names[dataset]} - sklearn depth 4')\n",
    "    axs[i, 2].set_title(f'{printable_dataset_names[dataset]} - sklearn depth 5')\n",
    "\n",
    "    if i != len(datasets) - 1: \n",
    "        axs[i, 0].set_xlabel('')\n",
    "        axs[i, 1].set_xlabel('')\n",
    "        axs[i, 2].set_xlabel('')\n",
    "\n",
    "fig.suptitle(f'% Predictions Completely Robust to Missingness', fontsize='xx-large')\n",
    "fig.tight_layout(rect=[0, 0, 1, .98])\n",
    "plt.savefig(f'plots/single_tree_depths_{BALANCE_TO_PLOT}_{PREBIN_TO_PLOT}.pdf')\n",
    "plt.show()\n"
   ]
  },
  {
   "cell_type": "code",
   "execution_count": null,
   "metadata": {},
   "outputs": [],
   "source": [
    "BALANCE_TO_PLOT = False\n",
    "PREBIN_TO_PLOT = False\n",
    "def plot_dataset(ax, dataset='compas.csv', base_tree='gosdt', balance=False, prebin_missingness=False, legend=False): \n",
    "    for NaN_condition in ['ours', 'path-based', 'used-features']: \n",
    "        ys = [100]\n",
    "        y_errs = [0]\n",
    "        for miss_prob in MISS_PROBS:\n",
    "            row = table.loc[(base_tree, dataset, NaN_condition, miss_prob, balance, prebin_missingness), :]\n",
    "            ys.append(row['proportion_valid_predictions']*100)\n",
    "            y_errs.append(row['std_err']*100)\n",
    "        ys.append(0)\n",
    "        y_errs.append(0)\n",
    "        ax.errorbar([0] + MISS_PROBS + [1], ys, yerr=y_errs, label=f'{NaN_condition}')\n",
    "    \n",
    "    ax.set_ylim(0, 100)\n",
    "    ax.set_xlim(0, 1)\n",
    "    ax.set_xlabel('Missingness Prob per Feature')\n",
    "    ax.set_ylabel(f'% Predictions Proven \\n Unaffected')\n",
    "    if legend:\n",
    "        ax.legend(loc='upper right')\n",
    "    ax.set_title(f'{printable_dataset_names[dataset]}')\n",
    "\n",
    "plt.rcParams.update({'font.size': 24})\n",
    "datasets = ['fico_complete.csv', 'netherlands.csv', 'spiral.csv', 'tic-tac-toe.csv', 'iris_virginica.csv', 'iris_versicolor.csv', 'iris_setosa.csv', 'broward_general_2y.csv', 'higgs.csv']\n",
    "fig, axs = plt.subplots(3, 3, figsize=(20, 15))\n",
    "\n",
    "for i, dataset in enumerate(datasets):\n",
    "    plot_dataset(axs[i // 3, i % 3], dataset, 'sklearn', balance=BALANCE_TO_PLOT, prebin_missingness=PREBIN_TO_PLOT, legend = i==0)\n",
    "    # plot_dataset(axs[i, 1], dataset, 'gosdt', balance=BALANCE_TO_PLOT, prebin_missingness=PREBIN_TO_PLOT)\n",
    "    # plot_dataset(axs[i, 2], dataset, 'dl85', balance=BALANCE_TO_PLOT, prebin_missingness=PREBIN_TO_PLOT)\n",
    "    if i < len(datasets) - 3: \n",
    "        axs[i // 3, i %3].set_xlabel('')\n",
    "\n",
    "fig.suptitle(f'% Samples such that CART trees \\n can Predict without Imputation', fontsize='x-large')\n",
    "fig.tight_layout()\n",
    "plt.savefig(f'plots/sklearn_app_{BALANCE_TO_PLOT}_{PREBIN_TO_PLOT}.pdf')\n",
    "plt.show()"
   ]
  },
  {
   "cell_type": "code",
   "execution_count": null,
   "metadata": {},
   "outputs": [],
   "source": [
    "BALANCE_TO_PLOT = False\n",
    "PREBIN_TO_PLOT = True\n",
    "def plot_dataset(ax, dataset='compas.csv', base_tree='gosdt', balance=False, prebin_missingness=False, legend=False): \n",
    "    for NaN_condition in ['ours', 'path-based', 'used-features']: \n",
    "        ys = [100]\n",
    "        y_errs = [0]\n",
    "        for miss_prob in MISS_PROBS:\n",
    "            row = table.loc[(base_tree, dataset, NaN_condition, miss_prob, balance, prebin_missingness), :]\n",
    "            ys.append(row['proportion_valid_predictions']*100)\n",
    "            y_errs.append(row['std_err']*100)\n",
    "        ys.append(0)\n",
    "        y_errs.append(0)\n",
    "        ax.errorbar([0] + MISS_PROBS + [1], ys, yerr=y_errs, label=f'{NaN_condition}')\n",
    "    \n",
    "    ax.set_ylim(0, 100)\n",
    "    ax.set_xlim(0, 1)\n",
    "    ax.set_xlabel('Missingness Prob per Feature')\n",
    "    ax.set_ylabel(f'% Predictions Proven \\n Unaffected')\n",
    "    if legend:\n",
    "        ax.legend(loc='upper right')\n",
    "    ax.set_title(f'{printable_dataset_names[dataset]}')\n",
    "\n",
    "plt.rcParams.update({'font.size': 24})\n",
    "datasets = ['compas_complete.csv', 'wine_quality.csv', 'wisconsin.csv', 'coupon_full.csv']\n",
    "fig, axs = plt.subplots(2, 2, figsize=(15, 12))\n",
    "\n",
    "for i, dataset in enumerate(datasets):\n",
    "    plot_dataset(axs[i // 2, i % 2], dataset, 'sklearn', balance=BALANCE_TO_PLOT, prebin_missingness=PREBIN_TO_PLOT, legend = i==0)\n",
    "    # plot_dataset(axs[i, 1], dataset, 'gosdt', balance=BALANCE_TO_PLOT, prebin_missingness=PREBIN_TO_PLOT)\n",
    "    # plot_dataset(axs[i, 2], dataset, 'dl85', balance=BALANCE_TO_PLOT, prebin_missingness=PREBIN_TO_PLOT)\n",
    "    if i < len(datasets) - 2: \n",
    "        axs[i // 2, i %2].set_xlabel('')\n",
    "\n",
    "fig.suptitle(f'% Samples such that CART trees \\n can Predict without Imputation', fontsize='x-large')\n",
    "fig.tight_layout()\n",
    "plt.savefig(f'plots/sklearn_{BALANCE_TO_PLOT}_{PREBIN_TO_PLOT}.pdf')\n",
    "plt.show()"
   ]
  }
 ],
 "metadata": {
  "kernelspec": {
   "display_name": "Python 3",
   "language": "python",
   "name": "python3"
  },
  "language_info": {
   "codemirror_mode": {
    "name": "ipython",
    "version": 3
   },
   "file_extension": ".py",
   "mimetype": "text/x-python",
   "name": "python",
   "nbconvert_exporter": "python",
   "pygments_lexer": "ipython3",
   "version": "3.9.13"
  }
 },
 "nbformat": 4,
 "nbformat_minor": 2
}
