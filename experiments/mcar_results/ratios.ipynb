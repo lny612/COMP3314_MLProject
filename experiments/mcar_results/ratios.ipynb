{
 "cells": [
  {
   "cell_type": "code",
   "execution_count": 1,
   "metadata": {},
   "outputs": [],
   "source": [
    "import numpy as np \n",
    "import pandas as pd "
   ]
  },
  {
   "cell_type": "code",
   "execution_count": null,
   "metadata": {},
   "outputs": [],
   "source": [
    "df = pd.read_csv('single_tree/aggregated.csv')"
   ]
  },
  {
   "cell_type": "code",
   "execution_count": null,
   "metadata": {},
   "outputs": [],
   "source": [
    "df_supplement = pd.read_csv('rset/rset.csv')"
   ]
  },
  {
   "cell_type": "code",
   "execution_count": 4,
   "metadata": {},
   "outputs": [],
   "source": [
    "#rename 'balanced' column to 'balance'\n",
    "df_supplement = df_supplement.rename(columns={'balanced':'balance'})"
   ]
  },
  {
   "cell_type": "code",
   "execution_count": 5,
   "metadata": {},
   "outputs": [],
   "source": [
    "df = pd.concat([df, df_supplement])"
   ]
  },
  {
   "cell_type": "code",
   "execution_count": 6,
   "metadata": {},
   "outputs": [],
   "source": [
    "df['proportion_nan'] = df['n_nan_preds'] / df['test_set_size']"
   ]
  },
  {
   "cell_type": "code",
   "execution_count": 7,
   "metadata": {},
   "outputs": [
    {
     "data": {
      "text/html": [
       "<div>\n",
       "<style scoped>\n",
       "    .dataframe tbody tr th:only-of-type {\n",
       "        vertical-align: middle;\n",
       "    }\n",
       "\n",
       "    .dataframe tbody tr th {\n",
       "        vertical-align: top;\n",
       "    }\n",
       "\n",
       "    .dataframe thead th {\n",
       "        text-align: right;\n",
       "    }\n",
       "</style>\n",
       "<table border=\"1\" class=\"dataframe\">\n",
       "  <thead>\n",
       "    <tr style=\"text-align: right;\">\n",
       "      <th></th>\n",
       "      <th>dataset</th>\n",
       "      <th>base_tree</th>\n",
       "      <th>NaN_condition</th>\n",
       "      <th>balance</th>\n",
       "      <th>prebin_missingness</th>\n",
       "      <th>acc_complete_train</th>\n",
       "      <th>acc_complete_test</th>\n",
       "      <th>miss_prob</th>\n",
       "      <th>test_set_size</th>\n",
       "      <th>n_nan_preds</th>\n",
       "      <th>acc_incomplete_when_not_nan</th>\n",
       "      <th>acc_when_nan_if_0_impute</th>\n",
       "      <th>rset_size</th>\n",
       "      <th>avg_sparsity_complete</th>\n",
       "      <th>acc_complete_on_points_where_incomplete_not_nan</th>\n",
       "      <th>avg_sparsity_incomplete</th>\n",
       "      <th>proportion_nan</th>\n",
       "    </tr>\n",
       "  </thead>\n",
       "  <tbody>\n",
       "    <tr>\n",
       "      <th>0</th>\n",
       "      <td>compas_complete.csv</td>\n",
       "      <td>gosdt</td>\n",
       "      <td>ours</td>\n",
       "      <td>False</td>\n",
       "      <td>False</td>\n",
       "      <td>0.665882</td>\n",
       "      <td>0.652677</td>\n",
       "      <td>0.1</td>\n",
       "      <td>1382</td>\n",
       "      <td>190</td>\n",
       "      <td>0.645134</td>\n",
       "      <td>0.563158</td>\n",
       "      <td>NaN</td>\n",
       "      <td>NaN</td>\n",
       "      <td>NaN</td>\n",
       "      <td>NaN</td>\n",
       "      <td>0.137482</td>\n",
       "    </tr>\n",
       "    <tr>\n",
       "      <th>1</th>\n",
       "      <td>compas_complete.csv</td>\n",
       "      <td>gosdt</td>\n",
       "      <td>ours</td>\n",
       "      <td>False</td>\n",
       "      <td>False</td>\n",
       "      <td>0.665882</td>\n",
       "      <td>0.652677</td>\n",
       "      <td>0.2</td>\n",
       "      <td>1382</td>\n",
       "      <td>373</td>\n",
       "      <td>0.645193</td>\n",
       "      <td>0.528150</td>\n",
       "      <td>NaN</td>\n",
       "      <td>NaN</td>\n",
       "      <td>NaN</td>\n",
       "      <td>NaN</td>\n",
       "      <td>0.269899</td>\n",
       "    </tr>\n",
       "    <tr>\n",
       "      <th>2</th>\n",
       "      <td>compas_complete.csv</td>\n",
       "      <td>gosdt</td>\n",
       "      <td>ours</td>\n",
       "      <td>False</td>\n",
       "      <td>False</td>\n",
       "      <td>0.665882</td>\n",
       "      <td>0.652677</td>\n",
       "      <td>0.3</td>\n",
       "      <td>1382</td>\n",
       "      <td>564</td>\n",
       "      <td>0.644254</td>\n",
       "      <td>0.526596</td>\n",
       "      <td>NaN</td>\n",
       "      <td>NaN</td>\n",
       "      <td>NaN</td>\n",
       "      <td>NaN</td>\n",
       "      <td>0.408104</td>\n",
       "    </tr>\n",
       "    <tr>\n",
       "      <th>3</th>\n",
       "      <td>compas_complete.csv</td>\n",
       "      <td>gosdt</td>\n",
       "      <td>ours</td>\n",
       "      <td>False</td>\n",
       "      <td>False</td>\n",
       "      <td>0.665882</td>\n",
       "      <td>0.652677</td>\n",
       "      <td>0.4</td>\n",
       "      <td>1382</td>\n",
       "      <td>700</td>\n",
       "      <td>0.636364</td>\n",
       "      <td>0.507143</td>\n",
       "      <td>NaN</td>\n",
       "      <td>NaN</td>\n",
       "      <td>NaN</td>\n",
       "      <td>NaN</td>\n",
       "      <td>0.506512</td>\n",
       "    </tr>\n",
       "    <tr>\n",
       "      <th>4</th>\n",
       "      <td>compas_complete.csv</td>\n",
       "      <td>gosdt</td>\n",
       "      <td>ours</td>\n",
       "      <td>False</td>\n",
       "      <td>False</td>\n",
       "      <td>0.665882</td>\n",
       "      <td>0.652677</td>\n",
       "      <td>0.5</td>\n",
       "      <td>1382</td>\n",
       "      <td>844</td>\n",
       "      <td>0.639405</td>\n",
       "      <td>0.494076</td>\n",
       "      <td>NaN</td>\n",
       "      <td>NaN</td>\n",
       "      <td>NaN</td>\n",
       "      <td>NaN</td>\n",
       "      <td>0.610709</td>\n",
       "    </tr>\n",
       "  </tbody>\n",
       "</table>\n",
       "</div>"
      ],
      "text/plain": [
       "               dataset base_tree NaN_condition  balance  prebin_missingness  \\\n",
       "0  compas_complete.csv     gosdt          ours    False               False   \n",
       "1  compas_complete.csv     gosdt          ours    False               False   \n",
       "2  compas_complete.csv     gosdt          ours    False               False   \n",
       "3  compas_complete.csv     gosdt          ours    False               False   \n",
       "4  compas_complete.csv     gosdt          ours    False               False   \n",
       "\n",
       "   acc_complete_train  acc_complete_test  miss_prob  test_set_size  \\\n",
       "0            0.665882           0.652677        0.1           1382   \n",
       "1            0.665882           0.652677        0.2           1382   \n",
       "2            0.665882           0.652677        0.3           1382   \n",
       "3            0.665882           0.652677        0.4           1382   \n",
       "4            0.665882           0.652677        0.5           1382   \n",
       "\n",
       "   n_nan_preds  acc_incomplete_when_not_nan  acc_when_nan_if_0_impute  \\\n",
       "0          190                     0.645134                  0.563158   \n",
       "1          373                     0.645193                  0.528150   \n",
       "2          564                     0.644254                  0.526596   \n",
       "3          700                     0.636364                  0.507143   \n",
       "4          844                     0.639405                  0.494076   \n",
       "\n",
       "   rset_size  avg_sparsity_complete  \\\n",
       "0        NaN                    NaN   \n",
       "1        NaN                    NaN   \n",
       "2        NaN                    NaN   \n",
       "3        NaN                    NaN   \n",
       "4        NaN                    NaN   \n",
       "\n",
       "   acc_complete_on_points_where_incomplete_not_nan  avg_sparsity_incomplete  \\\n",
       "0                                              NaN                      NaN   \n",
       "1                                              NaN                      NaN   \n",
       "2                                              NaN                      NaN   \n",
       "3                                              NaN                      NaN   \n",
       "4                                              NaN                      NaN   \n",
       "\n",
       "   proportion_nan  \n",
       "0        0.137482  \n",
       "1        0.269899  \n",
       "2        0.408104  \n",
       "3        0.506512  \n",
       "4        0.610709  "
      ]
     },
     "execution_count": 7,
     "metadata": {},
     "output_type": "execute_result"
    }
   ],
   "source": [
    "df.head()"
   ]
  },
  {
   "cell_type": "code",
   "execution_count": 8,
   "metadata": {},
   "outputs": [],
   "source": [
    "groups = df.groupby(['base_tree', 'dataset', 'NaN_condition', 'miss_prob', 'balance', 'prebin_missingness'])"
   ]
  },
  {
   "cell_type": "code",
   "execution_count": 9,
   "metadata": {},
   "outputs": [],
   "source": [
    "table = groups['proportion_nan'].agg(['mean', 'std', 'count'])"
   ]
  },
  {
   "cell_type": "code",
   "execution_count": 10,
   "metadata": {},
   "outputs": [],
   "source": [
    "table['std_err'] = table['std']/np.sqrt(table['count'])"
   ]
  },
  {
   "cell_type": "code",
   "execution_count": 11,
   "metadata": {},
   "outputs": [],
   "source": [
    "table['proportion_valid_predictions'] = 1 - table['mean']"
   ]
  },
  {
   "cell_type": "code",
   "execution_count": 12,
   "metadata": {},
   "outputs": [],
   "source": [
    "printable_dataset_names = {\n",
    "    'compas_complete.csv': 'COMPAS',\n",
    "    'wine_quality.csv': 'Wine Quality',\n",
    "    'wisconsin.csv': 'Wisconsin',\n",
    "    'coupon_full.csv': 'Coupon',\n",
    "}"
   ]
  },
  {
   "cell_type": "code",
   "execution_count": 13,
   "metadata": {},
   "outputs": [
    {
     "name": "stdout",
     "output_type": "stream",
     "text": [
      "compas_complete.csv\n",
      "0.2995491846655719 0.01180453099030962\n",
      "0.12335405770478192 0.004986102377729687\n",
      "0.0091208891394583 0.0011347725062689892\n",
      "243\n",
      "3284\n",
      "-----------------------------------------------\n",
      "wine_quality.csv\n",
      "0.457440990110736 0.016816382116036317\n",
      "0.11682536862675441 0.003703378192971523\n",
      "0.00708012080298448 0.0009546055436589492\n",
      "392\n",
      "6461\n",
      "-----------------------------------------------\n",
      "wisconsin.csv\n",
      "0.35160689333954354 0.03541304264395054\n",
      "0.13356621642602085 0.01451495965964367\n",
      "0.012296227293898454 0.005947142974857107\n",
      "263\n",
      "2859\n",
      "-----------------------------------------------\n",
      "coupon_full.csv\n",
      "0.3982082185019127 0.03657266157820503\n",
      "0.11830481400737658 0.0013253423594876519\n",
      "0.024753917979515427 0.0029401106192527265\n",
      "337\n",
      "1609\n",
      "-----------------------------------------------\n"
     ]
    }
   ],
   "source": [
    "datasets = ['compas_complete.csv', 'wine_quality.csv', 'wisconsin.csv', 'coupon_full.csv']\n",
    "rate = 0.5\n",
    "balance = False\n",
    "for dataset in datasets:\n",
    "    print(dataset)\n",
    "    ours = table.loc[('sklearn', dataset, 'ours', rate, balance, False), 'proportion_valid_predictions']\n",
    "    path = table.loc[('sklearn', dataset, 'path-based', rate, balance, False), 'proportion_valid_predictions']\n",
    "    used = table.loc[('sklearn', dataset, 'used-features', rate, balance, False), 'proportion_valid_predictions']\n",
    "    print(ours, table.loc[('sklearn', dataset, 'ours', rate, balance, False), 'std_err'])\n",
    "    print(path, table.loc[('sklearn', dataset, 'path-based', rate, balance, False), 'std_err'])\n",
    "    print(used, table.loc[('sklearn', dataset, 'used-features', rate, balance, False), 'std_err'])\n",
    "    print(f'{ours/path*100:.0f}')\n",
    "    print(f'{ours/used*100:.0f}')\n",
    "    print('-----------------------------------------------')"
   ]
  }
 ],
 "metadata": {
  "kernelspec": {
   "display_name": "Python 3",
   "language": "python",
   "name": "python3"
  },
  "language_info": {
   "codemirror_mode": {
    "name": "ipython",
    "version": 3
   },
   "file_extension": ".py",
   "mimetype": "text/x-python",
   "name": "python",
   "nbconvert_exporter": "python",
   "pygments_lexer": "ipython3",
   "version": "3.10.12"
  }
 },
 "nbformat": 4,
 "nbformat_minor": 2
}
