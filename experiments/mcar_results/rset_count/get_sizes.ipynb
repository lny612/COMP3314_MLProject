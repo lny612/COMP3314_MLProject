{
 "cells": [
  {
   "cell_type": "code",
   "execution_count": 1,
   "metadata": {},
   "outputs": [],
   "source": [
    "import pandas as pd \n",
    "import numpy as np"
   ]
  },
  {
   "cell_type": "code",
   "execution_count": null,
   "metadata": {},
   "outputs": [],
   "source": [
    "def get_sizes(i): \n",
    "    df = pd.read_csv(f'{i}.csv')\n",
    "    print(df['dataset'].iloc[0])\n",
    "    string_trivial = f\"${df['rset_size_no_trivial_extensions'].mean():.0f} \\\\pm {df['rset_size_no_trivial_extensions'].std()/ np.sqrt(len(df)):0.0f}$\"\n",
    "    string_base = f\"${df['rset_size'].mean():0.0f} \\\\pm {df['rset_size'].std()/ np.sqrt(len(df)):0.0f}$\"\n",
    "    string_us = f\"${df['rset_size_unique'].mean():.0f} \\\\pm {df['rset_size_unique'].std()/ np.sqrt(len(df)):0.0f}$\"\n",
    "    assert(df['rset_size_unique_no_trivial_extensions'].mean() == df['rset_size_unique'].mean())\n",
    "    print(f\"{string_trivial} & {string_base} & {string_us} \\\\\\\\ %\")"
   ]
  },
  {
   "cell_type": "code",
   "execution_count": 33,
   "metadata": {},
   "outputs": [
    {
     "name": "stdout",
     "output_type": "stream",
     "text": [
      "compas_complete.csv\n",
      "$12785 \\pm 2840$ & $3913 \\pm 837$ & $2135 \\pm 448$ \\\\ %\n"
     ]
    }
   ],
   "source": [
    "# relevant indices are 12, 13, 14, 15 (compas, wine, wisc, coupon without the unneeded class balancing)\n",
    "get_sizes(12)"
   ]
  }
 ],
 "metadata": {
  "kernelspec": {
   "display_name": "Python 3",
   "language": "python",
   "name": "python3"
  },
  "language_info": {
   "codemirror_mode": {
    "name": "ipython",
    "version": 3
   },
   "file_extension": ".py",
   "mimetype": "text/x-python",
   "name": "python",
   "nbconvert_exporter": "python",
   "pygments_lexer": "ipython3",
   "version": "3.9.13"
  }
 },
 "nbformat": 4,
 "nbformat_minor": 2
}
